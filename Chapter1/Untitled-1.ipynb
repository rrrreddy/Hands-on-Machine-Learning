{
 "cells": [
  {
   "cell_type": "markdown",
   "metadata": {},
   "source": [
    "## Types of Machine Learning Systems\n",
    "* Trained with human supervision (supervised, unsuper‐ vised, semisupervised, and Reinforcement Learning)\n",
    "* Whether or not they can learn incrementally on the fly (online versus batch learning)\n",
    "* Whether they work by simply comparing new data points to known data points, or instead detect patterns in the training data and build a predictive model, much like scientists do (instance-based versus model-based learning)"
   ]
  },
  {
   "cell_type": "markdown",
   "metadata": {},
   "source": [
    "#### Supervised/Unsupervised Learning\n",
    "There are four major categories:\n",
    "1. supervised learning\n",
    "2. unsupervised learning\n",
    "3. semisupervised learning and\n",
    "4. Reinforcement Learning"
   ]
  },
  {
   "cell_type": "markdown",
   "metadata": {},
   "source": [
    "##### Supervised learning\n",
    "In the supervised learning, the training data we feed to the ML algorithm includes the desired solutons which we call labels.\n",
    "* classification - eg. spam mail detection  \n",
    "* Regression - eg. car price prediction\n",
    "\n",
    "Note : Some regression algorithms used for the classification problems vice versa\n",
    "        Eg: logistic regression commonly used for classification as it can output a value that corresponds to the porbability of belonging to the given class.\n",
    "\n",
    "Here are some of the most important supervised learning algorithms:\n",
    "* k-Nearest Neighbors\n",
    "* Linear Regression\n",
    "* Logistic Regression\n",
    "* Support Vector Machines (SVMs)\n",
    "* Decision Trees and Random Forests\n",
    "* Neural networks2\n"
   ]
  },
  {
   "cell_type": "markdown",
   "metadata": {},
   "source": [
    "##### Unsupervised learning\n",
    "In unsupervised learning the training data is unlabeled. The system tries to lean with out any supervision.\n",
    "Here are some of the most important unsupervised learning algorithms:\n",
    "* Clustering\n",
    "  * K-Means\n",
    "  * DBSCAN\n",
    "  * Hierarchical Cluster Analysis (HCA)\n",
    "* Anomaly detection and novelty detection    \n",
    "  * One-class SVM\n",
    "  * Isolation Forest\n",
    "* Visualization and dimensionality reduction \n",
    "   * Principal Component Analysis (PCA)\n",
    "   * Kernel PCA\n",
    "   * Locally-Linear Embedding (LLE)\n",
    "   * t-distributed Stochastic Neighbor Embedding (t-SNE)\n",
    "* Association rule learning\n",
    "   * Apriori\n",
    "   * Eclat"
   ]
  },
  {
   "cell_type": "markdown",
   "metadata": {},
   "source": []
  },
  {
   "cell_type": "markdown",
   "metadata": {},
   "source": [
    "##### Semisupervised learning\n",
    "Some algorithms can deal with partially labeled training data, usually a lot of unla‐ beled data and a little bit of labeled data. This is called semisupervised learning\n",
    "\n",
    "##### Reinforcement Learning\n",
    "Reinforcement Learning is a very different beast. The learning system, called an agent in this context, can observe the environment, select and perform actions, and get rewards in return (or penalties in the form of negative rewards). It must then learn by itself what is the best strategy.\n",
    "\n",
    "For example, many robots implement Reinforcement Learning algorithms to learn how to walk"
   ]
  },
  {
   "cell_type": "markdown",
   "metadata": {},
   "source": [
    "##### Batch and Online Learning\n",
    "Another criterion used to classify Machine Learning systems is whether or not the system can learn incrementally from a stream of incoming data\n",
    "###### Batch learning\n",
    "In batch learning, the system is incapable of learning incrementally: it must be trained using all the available data\n",
    "###### Online learning\n",
    "In online learning, you train the system incrementally by feeding it data instances sequentially, either individually or by small groups called mini-batches. Each learning step is fast and cheap, so the system can learn about new data on the fly, as it arrives"
   ]
  },
  {
   "cell_type": "markdown",
   "metadata": {},
   "source": [
    "git config --global user.email \"rrrreddy07@gmail.com\"\n",
    "git config --global user.name \"Raghu\""
   ]
  },
  {
   "cell_type": "markdown",
   "metadata": {},
   "source": []
  }
 ],
 "metadata": {
  "language_info": {
   "name": "python"
  },
  "orig_nbformat": 4
 },
 "nbformat": 4,
 "nbformat_minor": 2
}
